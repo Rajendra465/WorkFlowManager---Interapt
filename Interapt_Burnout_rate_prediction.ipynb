{
  "nbformat": 4,
  "nbformat_minor": 0,
  "metadata": {
    "colab": {
      "name": "Interapt- Burnout_rate prediction.ipynb",
      "provenance": []
    },
    "kernelspec": {
      "name": "python3",
      "display_name": "Python 3"
    },
    "language_info": {
      "name": "python"
    }
  },
  "cells": [
    {
      "cell_type": "code",
      "metadata": {
        "id": "tL5iNEChAtZr"
      },
      "source": [
        "import pandas as pd\n",
        "import numpy as np\n",
        "import matplotlib.pyplot as plt\n",
        "%matplotlib inline"
      ],
      "execution_count": 2,
      "outputs": []
    },
    {
      "cell_type": "code",
      "metadata": {
        "id": "GdIK6cCrBKrd"
      },
      "source": [
        "train = pd.read_csv('/content/Train.csv')\n",
        "test = pd.read_csv('/content/Test.csv')"
      ],
      "execution_count": 6,
      "outputs": []
    },
    {
      "cell_type": "code",
      "metadata": {
        "colab": {
          "base_uri": "https://localhost:8080/",
          "height": 606
        },
        "id": "MKV5eZiABVZS",
        "outputId": "4bb83645-4627-41df-f50c-87fc440b9ef6"
      },
      "source": [
        "train"
      ],
      "execution_count": 7,
      "outputs": [
        {
          "output_type": "execute_result",
          "data": {
            "text/html": [
              "<div>\n",
              "<style scoped>\n",
              "    .dataframe tbody tr th:only-of-type {\n",
              "        vertical-align: middle;\n",
              "    }\n",
              "\n",
              "    .dataframe tbody tr th {\n",
              "        vertical-align: top;\n",
              "    }\n",
              "\n",
              "    .dataframe thead th {\n",
              "        text-align: right;\n",
              "    }\n",
              "</style>\n",
              "<table border=\"1\" class=\"dataframe\">\n",
              "  <thead>\n",
              "    <tr style=\"text-align: right;\">\n",
              "      <th></th>\n",
              "      <th>Name</th>\n",
              "      <th>Gender</th>\n",
              "      <th>Age</th>\n",
              "      <th>Education_Level</th>\n",
              "      <th>Relationship_Status</th>\n",
              "      <th>Hometown</th>\n",
              "      <th>Unit</th>\n",
              "      <th>Decision_skill_possess</th>\n",
              "      <th>Time_of_service</th>\n",
              "      <th>Time_since_promotion</th>\n",
              "      <th>growth_rate</th>\n",
              "      <th>Travel_Rate</th>\n",
              "      <th>Post_Level</th>\n",
              "      <th>Pay_Scale</th>\n",
              "      <th>Compensation_and_Benefits</th>\n",
              "      <th>Work_Life_balance</th>\n",
              "      <th>VAR1</th>\n",
              "      <th>VAR2</th>\n",
              "      <th>VAR3</th>\n",
              "      <th>VAR4</th>\n",
              "      <th>VAR5</th>\n",
              "      <th>VAR6</th>\n",
              "      <th>VAR7</th>\n",
              "      <th>Burnout_rate</th>\n",
              "    </tr>\n",
              "  </thead>\n",
              "  <tbody>\n",
              "    <tr>\n",
              "      <th>0</th>\n",
              "      <td>Resource 1</td>\n",
              "      <td>F</td>\n",
              "      <td>42.0</td>\n",
              "      <td>4</td>\n",
              "      <td>Married</td>\n",
              "      <td>Franklin</td>\n",
              "      <td>IT</td>\n",
              "      <td>Conceptual</td>\n",
              "      <td>4.0</td>\n",
              "      <td>4</td>\n",
              "      <td>33</td>\n",
              "      <td>1</td>\n",
              "      <td>1</td>\n",
              "      <td>7.0</td>\n",
              "      <td>type2</td>\n",
              "      <td>3.0</td>\n",
              "      <td>4</td>\n",
              "      <td>0.7516</td>\n",
              "      <td>1.8688</td>\n",
              "      <td>2.0</td>\n",
              "      <td>4</td>\n",
              "      <td>5</td>\n",
              "      <td>3</td>\n",
              "      <td>0.1841</td>\n",
              "    </tr>\n",
              "    <tr>\n",
              "      <th>1</th>\n",
              "      <td>Resource 2</td>\n",
              "      <td>M</td>\n",
              "      <td>24.0</td>\n",
              "      <td>3</td>\n",
              "      <td>Single</td>\n",
              "      <td>Springfield</td>\n",
              "      <td>Logistics</td>\n",
              "      <td>Analytical</td>\n",
              "      <td>5.0</td>\n",
              "      <td>4</td>\n",
              "      <td>36</td>\n",
              "      <td>0</td>\n",
              "      <td>3</td>\n",
              "      <td>6.0</td>\n",
              "      <td>type2</td>\n",
              "      <td>4.0</td>\n",
              "      <td>3</td>\n",
              "      <td>-0.9612</td>\n",
              "      <td>-0.4537</td>\n",
              "      <td>2.0</td>\n",
              "      <td>3</td>\n",
              "      <td>5</td>\n",
              "      <td>3</td>\n",
              "      <td>0.0670</td>\n",
              "    </tr>\n",
              "    <tr>\n",
              "      <th>2</th>\n",
              "      <td>Resource 3</td>\n",
              "      <td>F</td>\n",
              "      <td>58.0</td>\n",
              "      <td>3</td>\n",
              "      <td>Married</td>\n",
              "      <td>Clinton</td>\n",
              "      <td>Quality</td>\n",
              "      <td>Conceptual</td>\n",
              "      <td>27.0</td>\n",
              "      <td>3</td>\n",
              "      <td>51</td>\n",
              "      <td>0</td>\n",
              "      <td>2</td>\n",
              "      <td>8.0</td>\n",
              "      <td>type2</td>\n",
              "      <td>1.0</td>\n",
              "      <td>4</td>\n",
              "      <td>-0.9612</td>\n",
              "      <td>-0.4537</td>\n",
              "      <td>3.0</td>\n",
              "      <td>3</td>\n",
              "      <td>8</td>\n",
              "      <td>3</td>\n",
              "      <td>0.0851</td>\n",
              "    </tr>\n",
              "    <tr>\n",
              "      <th>3</th>\n",
              "      <td>Resource 4</td>\n",
              "      <td>F</td>\n",
              "      <td>26.0</td>\n",
              "      <td>3</td>\n",
              "      <td>Single</td>\n",
              "      <td>Lebanon</td>\n",
              "      <td>Human Resource Management</td>\n",
              "      <td>Behavioral</td>\n",
              "      <td>4.0</td>\n",
              "      <td>3</td>\n",
              "      <td>56</td>\n",
              "      <td>1</td>\n",
              "      <td>3</td>\n",
              "      <td>8.0</td>\n",
              "      <td>type2</td>\n",
              "      <td>1.0</td>\n",
              "      <td>3</td>\n",
              "      <td>-1.8176</td>\n",
              "      <td>-0.4537</td>\n",
              "      <td>NaN</td>\n",
              "      <td>3</td>\n",
              "      <td>7</td>\n",
              "      <td>3</td>\n",
              "      <td>0.0668</td>\n",
              "    </tr>\n",
              "    <tr>\n",
              "      <th>4</th>\n",
              "      <td>Resource 5</td>\n",
              "      <td>F</td>\n",
              "      <td>31.0</td>\n",
              "      <td>1</td>\n",
              "      <td>Married</td>\n",
              "      <td>Springfield</td>\n",
              "      <td>Logistics</td>\n",
              "      <td>Conceptual</td>\n",
              "      <td>5.0</td>\n",
              "      <td>4</td>\n",
              "      <td>62</td>\n",
              "      <td>1</td>\n",
              "      <td>3</td>\n",
              "      <td>2.0</td>\n",
              "      <td>type3</td>\n",
              "      <td>3.0</td>\n",
              "      <td>1</td>\n",
              "      <td>0.7516</td>\n",
              "      <td>-0.4537</td>\n",
              "      <td>2.0</td>\n",
              "      <td>2</td>\n",
              "      <td>8</td>\n",
              "      <td>2</td>\n",
              "      <td>0.1827</td>\n",
              "    </tr>\n",
              "    <tr>\n",
              "      <th>...</th>\n",
              "      <td>...</td>\n",
              "      <td>...</td>\n",
              "      <td>...</td>\n",
              "      <td>...</td>\n",
              "      <td>...</td>\n",
              "      <td>...</td>\n",
              "      <td>...</td>\n",
              "      <td>...</td>\n",
              "      <td>...</td>\n",
              "      <td>...</td>\n",
              "      <td>...</td>\n",
              "      <td>...</td>\n",
              "      <td>...</td>\n",
              "      <td>...</td>\n",
              "      <td>...</td>\n",
              "      <td>...</td>\n",
              "      <td>...</td>\n",
              "      <td>...</td>\n",
              "      <td>...</td>\n",
              "      <td>...</td>\n",
              "      <td>...</td>\n",
              "      <td>...</td>\n",
              "      <td>...</td>\n",
              "      <td>...</td>\n",
              "    </tr>\n",
              "    <tr>\n",
              "      <th>6995</th>\n",
              "      <td>Resource 6996</td>\n",
              "      <td>F</td>\n",
              "      <td>23.0</td>\n",
              "      <td>5</td>\n",
              "      <td>Married</td>\n",
              "      <td>Franklin</td>\n",
              "      <td>Operarions</td>\n",
              "      <td>Behavioral</td>\n",
              "      <td>4.0</td>\n",
              "      <td>1</td>\n",
              "      <td>20</td>\n",
              "      <td>1</td>\n",
              "      <td>2</td>\n",
              "      <td>6.0</td>\n",
              "      <td>type3</td>\n",
              "      <td>3.0</td>\n",
              "      <td>1</td>\n",
              "      <td>0.7516</td>\n",
              "      <td>-0.4537</td>\n",
              "      <td>2.0</td>\n",
              "      <td>3</td>\n",
              "      <td>7</td>\n",
              "      <td>3</td>\n",
              "      <td>0.7839</td>\n",
              "    </tr>\n",
              "    <tr>\n",
              "      <th>6996</th>\n",
              "      <td>Resource 6997</td>\n",
              "      <td>F</td>\n",
              "      <td>44.0</td>\n",
              "      <td>1</td>\n",
              "      <td>Married</td>\n",
              "      <td>Lebanon</td>\n",
              "      <td>R&amp;D</td>\n",
              "      <td>Analytical</td>\n",
              "      <td>16.0</td>\n",
              "      <td>2</td>\n",
              "      <td>59</td>\n",
              "      <td>0</td>\n",
              "      <td>2</td>\n",
              "      <td>4.0</td>\n",
              "      <td>type3</td>\n",
              "      <td>3.0</td>\n",
              "      <td>2</td>\n",
              "      <td>-0.1048</td>\n",
              "      <td>-2.7762</td>\n",
              "      <td>2.0</td>\n",
              "      <td>4</td>\n",
              "      <td>8</td>\n",
              "      <td>4</td>\n",
              "      <td>0.1055</td>\n",
              "    </tr>\n",
              "    <tr>\n",
              "      <th>6997</th>\n",
              "      <td>Resource 6998</td>\n",
              "      <td>F</td>\n",
              "      <td>49.0</td>\n",
              "      <td>3</td>\n",
              "      <td>Single</td>\n",
              "      <td>Springfield</td>\n",
              "      <td>IT</td>\n",
              "      <td>Directive</td>\n",
              "      <td>10.0</td>\n",
              "      <td>1</td>\n",
              "      <td>59</td>\n",
              "      <td>1</td>\n",
              "      <td>2</td>\n",
              "      <td>3.0</td>\n",
              "      <td>type2</td>\n",
              "      <td>4.0</td>\n",
              "      <td>2</td>\n",
              "      <td>-0.1048</td>\n",
              "      <td>-0.4537</td>\n",
              "      <td>2.0</td>\n",
              "      <td>4</td>\n",
              "      <td>8</td>\n",
              "      <td>3</td>\n",
              "      <td>0.7847</td>\n",
              "    </tr>\n",
              "    <tr>\n",
              "      <th>6998</th>\n",
              "      <td>Resource 6999</td>\n",
              "      <td>F</td>\n",
              "      <td>47.0</td>\n",
              "      <td>3</td>\n",
              "      <td>Married</td>\n",
              "      <td>Washington</td>\n",
              "      <td>Sales</td>\n",
              "      <td>Behavioral</td>\n",
              "      <td>24.0</td>\n",
              "      <td>1</td>\n",
              "      <td>21</td>\n",
              "      <td>1</td>\n",
              "      <td>5</td>\n",
              "      <td>8.0</td>\n",
              "      <td>type0</td>\n",
              "      <td>2.0</td>\n",
              "      <td>4</td>\n",
              "      <td>0.7516</td>\n",
              "      <td>1.8688</td>\n",
              "      <td>2.0</td>\n",
              "      <td>3</td>\n",
              "      <td>6</td>\n",
              "      <td>3</td>\n",
              "      <td>0.4162</td>\n",
              "    </tr>\n",
              "    <tr>\n",
              "      <th>6999</th>\n",
              "      <td>Resource 7000</td>\n",
              "      <td>F</td>\n",
              "      <td>58.0</td>\n",
              "      <td>3</td>\n",
              "      <td>Married</td>\n",
              "      <td>Franklin</td>\n",
              "      <td>IT</td>\n",
              "      <td>Directive</td>\n",
              "      <td>22.0</td>\n",
              "      <td>2</td>\n",
              "      <td>74</td>\n",
              "      <td>0</td>\n",
              "      <td>4</td>\n",
              "      <td>5.0</td>\n",
              "      <td>type2</td>\n",
              "      <td>3.0</td>\n",
              "      <td>3</td>\n",
              "      <td>-0.1048</td>\n",
              "      <td>-1.6150</td>\n",
              "      <td>3.0</td>\n",
              "      <td>4</td>\n",
              "      <td>5</td>\n",
              "      <td>3</td>\n",
              "      <td>0.0910</td>\n",
              "    </tr>\n",
              "  </tbody>\n",
              "</table>\n",
              "<p>7000 rows × 24 columns</p>\n",
              "</div>"
            ],
            "text/plain": [
              "               Name Gender   Age  ...  VAR6 VAR7 Burnout_rate\n",
              "0        Resource 1      F  42.0  ...     5    3       0.1841\n",
              "1        Resource 2      M  24.0  ...     5    3       0.0670\n",
              "2        Resource 3      F  58.0  ...     8    3       0.0851\n",
              "3        Resource 4      F  26.0  ...     7    3       0.0668\n",
              "4        Resource 5      F  31.0  ...     8    2       0.1827\n",
              "...             ...    ...   ...  ...   ...  ...          ...\n",
              "6995  Resource 6996      F  23.0  ...     7    3       0.7839\n",
              "6996  Resource 6997      F  44.0  ...     8    4       0.1055\n",
              "6997  Resource 6998      F  49.0  ...     8    3       0.7847\n",
              "6998  Resource 6999      F  47.0  ...     6    3       0.4162\n",
              "6999  Resource 7000      F  58.0  ...     5    3       0.0910\n",
              "\n",
              "[7000 rows x 24 columns]"
            ]
          },
          "metadata": {
            "tags": []
          },
          "execution_count": 7
        }
      ]
    },
    {
      "cell_type": "code",
      "metadata": {
        "colab": {
          "base_uri": "https://localhost:8080/",
          "height": 304
        },
        "id": "RFV_4fKNBYoY",
        "outputId": "a7c0fe92-17e0-466f-a1c3-439f47ba95b9"
      },
      "source": [
        "train.describe()"
      ],
      "execution_count": 8,
      "outputs": [
        {
          "output_type": "execute_result",
          "data": {
            "text/html": [
              "<div>\n",
              "<style scoped>\n",
              "    .dataframe tbody tr th:only-of-type {\n",
              "        vertical-align: middle;\n",
              "    }\n",
              "\n",
              "    .dataframe tbody tr th {\n",
              "        vertical-align: top;\n",
              "    }\n",
              "\n",
              "    .dataframe thead th {\n",
              "        text-align: right;\n",
              "    }\n",
              "</style>\n",
              "<table border=\"1\" class=\"dataframe\">\n",
              "  <thead>\n",
              "    <tr style=\"text-align: right;\">\n",
              "      <th></th>\n",
              "      <th>Age</th>\n",
              "      <th>Education_Level</th>\n",
              "      <th>Time_of_service</th>\n",
              "      <th>Time_since_promotion</th>\n",
              "      <th>growth_rate</th>\n",
              "      <th>Travel_Rate</th>\n",
              "      <th>Post_Level</th>\n",
              "      <th>Pay_Scale</th>\n",
              "      <th>Work_Life_balance</th>\n",
              "      <th>VAR1</th>\n",
              "      <th>VAR2</th>\n",
              "      <th>VAR3</th>\n",
              "      <th>VAR4</th>\n",
              "      <th>VAR5</th>\n",
              "      <th>VAR6</th>\n",
              "      <th>VAR7</th>\n",
              "      <th>Burnout_rate</th>\n",
              "    </tr>\n",
              "  </thead>\n",
              "  <tbody>\n",
              "    <tr>\n",
              "      <th>count</th>\n",
              "      <td>6588.000000</td>\n",
              "      <td>7000.000000</td>\n",
              "      <td>6856.000000</td>\n",
              "      <td>7000.000000</td>\n",
              "      <td>7000.000000</td>\n",
              "      <td>7000.000000</td>\n",
              "      <td>7000.000000</td>\n",
              "      <td>6991.000000</td>\n",
              "      <td>6989.000000</td>\n",
              "      <td>7000.000000</td>\n",
              "      <td>6423.000000</td>\n",
              "      <td>7000.000000</td>\n",
              "      <td>6344.000000</td>\n",
              "      <td>7000.000000</td>\n",
              "      <td>7000.000000</td>\n",
              "      <td>7000.000000</td>\n",
              "      <td>7000.000000</td>\n",
              "    </tr>\n",
              "    <tr>\n",
              "      <th>mean</th>\n",
              "      <td>39.622799</td>\n",
              "      <td>3.187857</td>\n",
              "      <td>13.385064</td>\n",
              "      <td>2.367143</td>\n",
              "      <td>47.064286</td>\n",
              "      <td>0.817857</td>\n",
              "      <td>2.798000</td>\n",
              "      <td>6.006294</td>\n",
              "      <td>2.387895</td>\n",
              "      <td>3.098571</td>\n",
              "      <td>-0.008126</td>\n",
              "      <td>-0.013606</td>\n",
              "      <td>1.891078</td>\n",
              "      <td>2.834143</td>\n",
              "      <td>7.101286</td>\n",
              "      <td>3.257000</td>\n",
              "      <td>0.189376</td>\n",
              "    </tr>\n",
              "    <tr>\n",
              "      <th>std</th>\n",
              "      <td>13.606920</td>\n",
              "      <td>1.065102</td>\n",
              "      <td>10.364188</td>\n",
              "      <td>1.149395</td>\n",
              "      <td>15.761406</td>\n",
              "      <td>0.648205</td>\n",
              "      <td>1.163721</td>\n",
              "      <td>2.058435</td>\n",
              "      <td>1.122786</td>\n",
              "      <td>0.836377</td>\n",
              "      <td>0.989850</td>\n",
              "      <td>0.986933</td>\n",
              "      <td>0.529403</td>\n",
              "      <td>0.938945</td>\n",
              "      <td>1.164262</td>\n",
              "      <td>0.925319</td>\n",
              "      <td>0.185753</td>\n",
              "    </tr>\n",
              "    <tr>\n",
              "      <th>min</th>\n",
              "      <td>19.000000</td>\n",
              "      <td>1.000000</td>\n",
              "      <td>0.000000</td>\n",
              "      <td>0.000000</td>\n",
              "      <td>20.000000</td>\n",
              "      <td>0.000000</td>\n",
              "      <td>1.000000</td>\n",
              "      <td>1.000000</td>\n",
              "      <td>1.000000</td>\n",
              "      <td>1.000000</td>\n",
              "      <td>-1.817600</td>\n",
              "      <td>-2.776200</td>\n",
              "      <td>1.000000</td>\n",
              "      <td>1.000000</td>\n",
              "      <td>5.000000</td>\n",
              "      <td>1.000000</td>\n",
              "      <td>0.000000</td>\n",
              "    </tr>\n",
              "    <tr>\n",
              "      <th>25%</th>\n",
              "      <td>27.000000</td>\n",
              "      <td>3.000000</td>\n",
              "      <td>5.000000</td>\n",
              "      <td>1.000000</td>\n",
              "      <td>33.000000</td>\n",
              "      <td>0.000000</td>\n",
              "      <td>2.000000</td>\n",
              "      <td>5.000000</td>\n",
              "      <td>1.000000</td>\n",
              "      <td>3.000000</td>\n",
              "      <td>-0.961200</td>\n",
              "      <td>-0.453700</td>\n",
              "      <td>2.000000</td>\n",
              "      <td>2.000000</td>\n",
              "      <td>6.000000</td>\n",
              "      <td>3.000000</td>\n",
              "      <td>0.070400</td>\n",
              "    </tr>\n",
              "    <tr>\n",
              "      <th>50%</th>\n",
              "      <td>37.000000</td>\n",
              "      <td>3.000000</td>\n",
              "      <td>10.000000</td>\n",
              "      <td>2.000000</td>\n",
              "      <td>47.000000</td>\n",
              "      <td>1.000000</td>\n",
              "      <td>3.000000</td>\n",
              "      <td>6.000000</td>\n",
              "      <td>2.000000</td>\n",
              "      <td>3.000000</td>\n",
              "      <td>-0.104800</td>\n",
              "      <td>-0.453700</td>\n",
              "      <td>2.000000</td>\n",
              "      <td>3.000000</td>\n",
              "      <td>7.000000</td>\n",
              "      <td>3.000000</td>\n",
              "      <td>0.142650</td>\n",
              "    </tr>\n",
              "    <tr>\n",
              "      <th>75%</th>\n",
              "      <td>52.000000</td>\n",
              "      <td>4.000000</td>\n",
              "      <td>21.000000</td>\n",
              "      <td>3.000000</td>\n",
              "      <td>61.000000</td>\n",
              "      <td>1.000000</td>\n",
              "      <td>3.000000</td>\n",
              "      <td>8.000000</td>\n",
              "      <td>3.000000</td>\n",
              "      <td>3.000000</td>\n",
              "      <td>0.751600</td>\n",
              "      <td>0.707500</td>\n",
              "      <td>2.000000</td>\n",
              "      <td>3.000000</td>\n",
              "      <td>8.000000</td>\n",
              "      <td>4.000000</td>\n",
              "      <td>0.235000</td>\n",
              "    </tr>\n",
              "    <tr>\n",
              "      <th>max</th>\n",
              "      <td>65.000000</td>\n",
              "      <td>5.000000</td>\n",
              "      <td>43.000000</td>\n",
              "      <td>4.000000</td>\n",
              "      <td>74.000000</td>\n",
              "      <td>2.000000</td>\n",
              "      <td>5.000000</td>\n",
              "      <td>10.000000</td>\n",
              "      <td>5.000000</td>\n",
              "      <td>5.000000</td>\n",
              "      <td>1.608100</td>\n",
              "      <td>1.868800</td>\n",
              "      <td>3.000000</td>\n",
              "      <td>5.000000</td>\n",
              "      <td>9.000000</td>\n",
              "      <td>5.000000</td>\n",
              "      <td>0.995900</td>\n",
              "    </tr>\n",
              "  </tbody>\n",
              "</table>\n",
              "</div>"
            ],
            "text/plain": [
              "               Age  Education_Level  ...         VAR7  Burnout_rate\n",
              "count  6588.000000      7000.000000  ...  7000.000000   7000.000000\n",
              "mean     39.622799         3.187857  ...     3.257000      0.189376\n",
              "std      13.606920         1.065102  ...     0.925319      0.185753\n",
              "min      19.000000         1.000000  ...     1.000000      0.000000\n",
              "25%      27.000000         3.000000  ...     3.000000      0.070400\n",
              "50%      37.000000         3.000000  ...     3.000000      0.142650\n",
              "75%      52.000000         4.000000  ...     4.000000      0.235000\n",
              "max      65.000000         5.000000  ...     5.000000      0.995900\n",
              "\n",
              "[8 rows x 17 columns]"
            ]
          },
          "metadata": {
            "tags": []
          },
          "execution_count": 8
        }
      ]
    },
    {
      "cell_type": "code",
      "metadata": {
        "colab": {
          "base_uri": "https://localhost:8080/"
        },
        "id": "77qdKoRUBi0V",
        "outputId": "026e6c53-891e-4061-c1c6-1d1294010347"
      },
      "source": [
        "train.info()"
      ],
      "execution_count": 9,
      "outputs": [
        {
          "output_type": "stream",
          "text": [
            "<class 'pandas.core.frame.DataFrame'>\n",
            "RangeIndex: 7000 entries, 0 to 6999\n",
            "Data columns (total 24 columns):\n",
            " #   Column                     Non-Null Count  Dtype  \n",
            "---  ------                     --------------  -----  \n",
            " 0   Name                       7000 non-null   object \n",
            " 1   Gender                     7000 non-null   object \n",
            " 2   Age                        6588 non-null   float64\n",
            " 3   Education_Level            7000 non-null   int64  \n",
            " 4   Relationship_Status        7000 non-null   object \n",
            " 5   Hometown                   7000 non-null   object \n",
            " 6   Unit                       7000 non-null   object \n",
            " 7   Decision_skill_possess     7000 non-null   object \n",
            " 8   Time_of_service            6856 non-null   float64\n",
            " 9   Time_since_promotion       7000 non-null   int64  \n",
            " 10  growth_rate                7000 non-null   int64  \n",
            " 11  Travel_Rate                7000 non-null   int64  \n",
            " 12  Post_Level                 7000 non-null   int64  \n",
            " 13  Pay_Scale                  6991 non-null   float64\n",
            " 14  Compensation_and_Benefits  7000 non-null   object \n",
            " 15  Work_Life_balance          6989 non-null   float64\n",
            " 16  VAR1                       7000 non-null   int64  \n",
            " 17  VAR2                       6423 non-null   float64\n",
            " 18  VAR3                       7000 non-null   float64\n",
            " 19  VAR4                       6344 non-null   float64\n",
            " 20  VAR5                       7000 non-null   int64  \n",
            " 21  VAR6                       7000 non-null   int64  \n",
            " 22  VAR7                       7000 non-null   int64  \n",
            " 23  Burnout_rate               7000 non-null   float64\n",
            "dtypes: float64(8), int64(9), object(7)\n",
            "memory usage: 1.3+ MB\n"
          ],
          "name": "stdout"
        }
      ]
    },
    {
      "cell_type": "code",
      "metadata": {
        "colab": {
          "base_uri": "https://localhost:8080/"
        },
        "id": "bJMl02oeBj6m",
        "outputId": "7b8b808f-8a97-46ce-880c-66edb37f75f5"
      },
      "source": [
        "train.isnull().sum()"
      ],
      "execution_count": 10,
      "outputs": [
        {
          "output_type": "execute_result",
          "data": {
            "text/plain": [
              "Name                           0\n",
              "Gender                         0\n",
              "Age                          412\n",
              "Education_Level                0\n",
              "Relationship_Status            0\n",
              "Hometown                       0\n",
              "Unit                           0\n",
              "Decision_skill_possess         0\n",
              "Time_of_service              144\n",
              "Time_since_promotion           0\n",
              "growth_rate                    0\n",
              "Travel_Rate                    0\n",
              "Post_Level                     0\n",
              "Pay_Scale                      9\n",
              "Compensation_and_Benefits      0\n",
              "Work_Life_balance             11\n",
              "VAR1                           0\n",
              "VAR2                         577\n",
              "VAR3                           0\n",
              "VAR4                         656\n",
              "VAR5                           0\n",
              "VAR6                           0\n",
              "VAR7                           0\n",
              "Burnout_rate                   0\n",
              "dtype: int64"
            ]
          },
          "metadata": {
            "tags": []
          },
          "execution_count": 10
        }
      ]
    },
    {
      "cell_type": "code",
      "metadata": {
        "colab": {
          "base_uri": "https://localhost:8080/"
        },
        "id": "gOjY_ACuBplg",
        "outputId": "9bf0708d-48bc-4f84-8b4f-120f54870ee5"
      },
      "source": [
        "train.shape"
      ],
      "execution_count": 11,
      "outputs": [
        {
          "output_type": "execute_result",
          "data": {
            "text/plain": [
              "(7000, 24)"
            ]
          },
          "metadata": {
            "tags": []
          },
          "execution_count": 11
        }
      ]
    },
    {
      "cell_type": "code",
      "metadata": {
        "id": "CRFxfw7-BrPS"
      },
      "source": [
        "\n",
        "df=train.append(test,ignore_index=True)"
      ],
      "execution_count": 12,
      "outputs": []
    },
    {
      "cell_type": "code",
      "metadata": {
        "colab": {
          "base_uri": "https://localhost:8080/",
          "height": 522
        },
        "id": "xyyWFWjIBviy",
        "outputId": "8970f642-7d7d-4ac8-e37f-7118d10397e5"
      },
      "source": [
        "df"
      ],
      "execution_count": 13,
      "outputs": [
        {
          "output_type": "execute_result",
          "data": {
            "text/html": [
              "<div>\n",
              "<style scoped>\n",
              "    .dataframe tbody tr th:only-of-type {\n",
              "        vertical-align: middle;\n",
              "    }\n",
              "\n",
              "    .dataframe tbody tr th {\n",
              "        vertical-align: top;\n",
              "    }\n",
              "\n",
              "    .dataframe thead th {\n",
              "        text-align: right;\n",
              "    }\n",
              "</style>\n",
              "<table border=\"1\" class=\"dataframe\">\n",
              "  <thead>\n",
              "    <tr style=\"text-align: right;\">\n",
              "      <th></th>\n",
              "      <th>Name</th>\n",
              "      <th>Gender</th>\n",
              "      <th>Age</th>\n",
              "      <th>Education_Level</th>\n",
              "      <th>Relationship_Status</th>\n",
              "      <th>Hometown</th>\n",
              "      <th>Unit</th>\n",
              "      <th>Decision_skill_possess</th>\n",
              "      <th>Time_of_service</th>\n",
              "      <th>Time_since_promotion</th>\n",
              "      <th>growth_rate</th>\n",
              "      <th>Travel_Rate</th>\n",
              "      <th>Post_Level</th>\n",
              "      <th>Pay_Scale</th>\n",
              "      <th>Compensation_and_Benefits</th>\n",
              "      <th>Work_Life_balance</th>\n",
              "      <th>VAR1</th>\n",
              "      <th>VAR2</th>\n",
              "      <th>VAR3</th>\n",
              "      <th>VAR4</th>\n",
              "      <th>VAR5</th>\n",
              "      <th>VAR6</th>\n",
              "      <th>VAR7</th>\n",
              "      <th>Burnout_rate</th>\n",
              "      <th>Employee_ID</th>\n",
              "    </tr>\n",
              "  </thead>\n",
              "  <tbody>\n",
              "    <tr>\n",
              "      <th>0</th>\n",
              "      <td>Resource 1</td>\n",
              "      <td>F</td>\n",
              "      <td>42.0</td>\n",
              "      <td>4</td>\n",
              "      <td>Married</td>\n",
              "      <td>Franklin</td>\n",
              "      <td>IT</td>\n",
              "      <td>Conceptual</td>\n",
              "      <td>4.0</td>\n",
              "      <td>4</td>\n",
              "      <td>33</td>\n",
              "      <td>1</td>\n",
              "      <td>1</td>\n",
              "      <td>7.0</td>\n",
              "      <td>type2</td>\n",
              "      <td>3.0</td>\n",
              "      <td>4</td>\n",
              "      <td>0.7516</td>\n",
              "      <td>1.8688</td>\n",
              "      <td>2.0</td>\n",
              "      <td>4</td>\n",
              "      <td>5</td>\n",
              "      <td>3</td>\n",
              "      <td>0.1841</td>\n",
              "      <td>NaN</td>\n",
              "    </tr>\n",
              "    <tr>\n",
              "      <th>1</th>\n",
              "      <td>Resource 2</td>\n",
              "      <td>M</td>\n",
              "      <td>24.0</td>\n",
              "      <td>3</td>\n",
              "      <td>Single</td>\n",
              "      <td>Springfield</td>\n",
              "      <td>Logistics</td>\n",
              "      <td>Analytical</td>\n",
              "      <td>5.0</td>\n",
              "      <td>4</td>\n",
              "      <td>36</td>\n",
              "      <td>0</td>\n",
              "      <td>3</td>\n",
              "      <td>6.0</td>\n",
              "      <td>type2</td>\n",
              "      <td>4.0</td>\n",
              "      <td>3</td>\n",
              "      <td>-0.9612</td>\n",
              "      <td>-0.4537</td>\n",
              "      <td>2.0</td>\n",
              "      <td>3</td>\n",
              "      <td>5</td>\n",
              "      <td>3</td>\n",
              "      <td>0.0670</td>\n",
              "      <td>NaN</td>\n",
              "    </tr>\n",
              "    <tr>\n",
              "      <th>2</th>\n",
              "      <td>Resource 3</td>\n",
              "      <td>F</td>\n",
              "      <td>58.0</td>\n",
              "      <td>3</td>\n",
              "      <td>Married</td>\n",
              "      <td>Clinton</td>\n",
              "      <td>Quality</td>\n",
              "      <td>Conceptual</td>\n",
              "      <td>27.0</td>\n",
              "      <td>3</td>\n",
              "      <td>51</td>\n",
              "      <td>0</td>\n",
              "      <td>2</td>\n",
              "      <td>8.0</td>\n",
              "      <td>type2</td>\n",
              "      <td>1.0</td>\n",
              "      <td>4</td>\n",
              "      <td>-0.9612</td>\n",
              "      <td>-0.4537</td>\n",
              "      <td>3.0</td>\n",
              "      <td>3</td>\n",
              "      <td>8</td>\n",
              "      <td>3</td>\n",
              "      <td>0.0851</td>\n",
              "      <td>NaN</td>\n",
              "    </tr>\n",
              "    <tr>\n",
              "      <th>3</th>\n",
              "      <td>Resource 4</td>\n",
              "      <td>F</td>\n",
              "      <td>26.0</td>\n",
              "      <td>3</td>\n",
              "      <td>Single</td>\n",
              "      <td>Lebanon</td>\n",
              "      <td>Human Resource Management</td>\n",
              "      <td>Behavioral</td>\n",
              "      <td>4.0</td>\n",
              "      <td>3</td>\n",
              "      <td>56</td>\n",
              "      <td>1</td>\n",
              "      <td>3</td>\n",
              "      <td>8.0</td>\n",
              "      <td>type2</td>\n",
              "      <td>1.0</td>\n",
              "      <td>3</td>\n",
              "      <td>-1.8176</td>\n",
              "      <td>-0.4537</td>\n",
              "      <td>NaN</td>\n",
              "      <td>3</td>\n",
              "      <td>7</td>\n",
              "      <td>3</td>\n",
              "      <td>0.0668</td>\n",
              "      <td>NaN</td>\n",
              "    </tr>\n",
              "    <tr>\n",
              "      <th>4</th>\n",
              "      <td>Resource 5</td>\n",
              "      <td>F</td>\n",
              "      <td>31.0</td>\n",
              "      <td>1</td>\n",
              "      <td>Married</td>\n",
              "      <td>Springfield</td>\n",
              "      <td>Logistics</td>\n",
              "      <td>Conceptual</td>\n",
              "      <td>5.0</td>\n",
              "      <td>4</td>\n",
              "      <td>62</td>\n",
              "      <td>1</td>\n",
              "      <td>3</td>\n",
              "      <td>2.0</td>\n",
              "      <td>type3</td>\n",
              "      <td>3.0</td>\n",
              "      <td>1</td>\n",
              "      <td>0.7516</td>\n",
              "      <td>-0.4537</td>\n",
              "      <td>2.0</td>\n",
              "      <td>2</td>\n",
              "      <td>8</td>\n",
              "      <td>2</td>\n",
              "      <td>0.1827</td>\n",
              "      <td>NaN</td>\n",
              "    </tr>\n",
              "    <tr>\n",
              "      <th>...</th>\n",
              "      <td>...</td>\n",
              "      <td>...</td>\n",
              "      <td>...</td>\n",
              "      <td>...</td>\n",
              "      <td>...</td>\n",
              "      <td>...</td>\n",
              "      <td>...</td>\n",
              "      <td>...</td>\n",
              "      <td>...</td>\n",
              "      <td>...</td>\n",
              "      <td>...</td>\n",
              "      <td>...</td>\n",
              "      <td>...</td>\n",
              "      <td>...</td>\n",
              "      <td>...</td>\n",
              "      <td>...</td>\n",
              "      <td>...</td>\n",
              "      <td>...</td>\n",
              "      <td>...</td>\n",
              "      <td>...</td>\n",
              "      <td>...</td>\n",
              "      <td>...</td>\n",
              "      <td>...</td>\n",
              "      <td>...</td>\n",
              "      <td>...</td>\n",
              "    </tr>\n",
              "    <tr>\n",
              "      <th>9995</th>\n",
              "      <td>NaN</td>\n",
              "      <td>F</td>\n",
              "      <td>32.0</td>\n",
              "      <td>3</td>\n",
              "      <td>Single</td>\n",
              "      <td>Franklin</td>\n",
              "      <td>Sales</td>\n",
              "      <td>Directive</td>\n",
              "      <td>3.0</td>\n",
              "      <td>3</td>\n",
              "      <td>38</td>\n",
              "      <td>1</td>\n",
              "      <td>3</td>\n",
              "      <td>6.0</td>\n",
              "      <td>type2</td>\n",
              "      <td>2.0</td>\n",
              "      <td>1</td>\n",
              "      <td>-0.1048</td>\n",
              "      <td>0.7075</td>\n",
              "      <td>1.0</td>\n",
              "      <td>4</td>\n",
              "      <td>7</td>\n",
              "      <td>4</td>\n",
              "      <td>NaN</td>\n",
              "      <td>EID_22547</td>\n",
              "    </tr>\n",
              "    <tr>\n",
              "      <th>9996</th>\n",
              "      <td>NaN</td>\n",
              "      <td>F</td>\n",
              "      <td>NaN</td>\n",
              "      <td>2</td>\n",
              "      <td>Single</td>\n",
              "      <td>Franklin</td>\n",
              "      <td>Marketing</td>\n",
              "      <td>Conceptual</td>\n",
              "      <td>10.0</td>\n",
              "      <td>2</td>\n",
              "      <td>57</td>\n",
              "      <td>1</td>\n",
              "      <td>4</td>\n",
              "      <td>9.0</td>\n",
              "      <td>type2</td>\n",
              "      <td>1.0</td>\n",
              "      <td>3</td>\n",
              "      <td>0.7516</td>\n",
              "      <td>0.7075</td>\n",
              "      <td>3.0</td>\n",
              "      <td>4</td>\n",
              "      <td>8</td>\n",
              "      <td>3</td>\n",
              "      <td>NaN</td>\n",
              "      <td>EID_10066</td>\n",
              "    </tr>\n",
              "    <tr>\n",
              "      <th>9997</th>\n",
              "      <td>NaN</td>\n",
              "      <td>F</td>\n",
              "      <td>60.0</td>\n",
              "      <td>4</td>\n",
              "      <td>Single</td>\n",
              "      <td>Lebanon</td>\n",
              "      <td>Logistics</td>\n",
              "      <td>Analytical</td>\n",
              "      <td>35.0</td>\n",
              "      <td>1</td>\n",
              "      <td>69</td>\n",
              "      <td>0</td>\n",
              "      <td>2</td>\n",
              "      <td>9.0</td>\n",
              "      <td>type3</td>\n",
              "      <td>3.0</td>\n",
              "      <td>3</td>\n",
              "      <td>-1.8176</td>\n",
              "      <td>-0.4537</td>\n",
              "      <td>NaN</td>\n",
              "      <td>4</td>\n",
              "      <td>8</td>\n",
              "      <td>4</td>\n",
              "      <td>NaN</td>\n",
              "      <td>EID_7126</td>\n",
              "    </tr>\n",
              "    <tr>\n",
              "      <th>9998</th>\n",
              "      <td>NaN</td>\n",
              "      <td>F</td>\n",
              "      <td>51.0</td>\n",
              "      <td>1</td>\n",
              "      <td>Married</td>\n",
              "      <td>Springfield</td>\n",
              "      <td>IT</td>\n",
              "      <td>Behavioral</td>\n",
              "      <td>23.0</td>\n",
              "      <td>1</td>\n",
              "      <td>30</td>\n",
              "      <td>0</td>\n",
              "      <td>2</td>\n",
              "      <td>6.0</td>\n",
              "      <td>type3</td>\n",
              "      <td>1.0</td>\n",
              "      <td>5</td>\n",
              "      <td>0.7516</td>\n",
              "      <td>-0.4537</td>\n",
              "      <td>2.0</td>\n",
              "      <td>3</td>\n",
              "      <td>9</td>\n",
              "      <td>2</td>\n",
              "      <td>NaN</td>\n",
              "      <td>EID_4929</td>\n",
              "    </tr>\n",
              "    <tr>\n",
              "      <th>9999</th>\n",
              "      <td>NaN</td>\n",
              "      <td>F</td>\n",
              "      <td>45.0</td>\n",
              "      <td>1</td>\n",
              "      <td>Single</td>\n",
              "      <td>Franklin</td>\n",
              "      <td>Sales</td>\n",
              "      <td>Directive</td>\n",
              "      <td>12.0</td>\n",
              "      <td>4</td>\n",
              "      <td>70</td>\n",
              "      <td>1</td>\n",
              "      <td>2</td>\n",
              "      <td>8.0</td>\n",
              "      <td>type4</td>\n",
              "      <td>4.0</td>\n",
              "      <td>3</td>\n",
              "      <td>0.7516</td>\n",
              "      <td>-0.4537</td>\n",
              "      <td>2.0</td>\n",
              "      <td>2</td>\n",
              "      <td>8</td>\n",
              "      <td>5</td>\n",
              "      <td>NaN</td>\n",
              "      <td>EID_24750</td>\n",
              "    </tr>\n",
              "  </tbody>\n",
              "</table>\n",
              "<p>10000 rows × 25 columns</p>\n",
              "</div>"
            ],
            "text/plain": [
              "            Name Gender   Age  ...  VAR7 Burnout_rate Employee_ID\n",
              "0     Resource 1      F  42.0  ...     3       0.1841         NaN\n",
              "1     Resource 2      M  24.0  ...     3       0.0670         NaN\n",
              "2     Resource 3      F  58.0  ...     3       0.0851         NaN\n",
              "3     Resource 4      F  26.0  ...     3       0.0668         NaN\n",
              "4     Resource 5      F  31.0  ...     2       0.1827         NaN\n",
              "...          ...    ...   ...  ...   ...          ...         ...\n",
              "9995         NaN      F  32.0  ...     4          NaN   EID_22547\n",
              "9996         NaN      F   NaN  ...     3          NaN   EID_10066\n",
              "9997         NaN      F  60.0  ...     4          NaN    EID_7126\n",
              "9998         NaN      F  51.0  ...     2          NaN    EID_4929\n",
              "9999         NaN      F  45.0  ...     5          NaN   EID_24750\n",
              "\n",
              "[10000 rows x 25 columns]"
            ]
          },
          "metadata": {
            "tags": []
          },
          "execution_count": 13
        }
      ]
    },
    {
      "cell_type": "code",
      "metadata": {
        "id": "iOOFWydeByPh"
      },
      "source": [
        "df['Work_Life_balance']=df['Work_Life_balance'].fillna(method='bfill')\n",
        "df['VAR2']=df['VAR2'].fillna(method='bfill')\n",
        "df['VAR4']=df['VAR4'].fillna(method='bfill')\n",
        "df['Pay_Scale']=df['Pay_Scale'].fillna(method='bfill')"
      ],
      "execution_count": 14,
      "outputs": []
    },
    {
      "cell_type": "code",
      "metadata": {
        "id": "4cEdZYDzB1dC"
      },
      "source": [
        "\n",
        "a=['Age','Time_of_service']\n",
        "for i in a:\n",
        "  df[i]=df[i].fillna(df[i].mean())"
      ],
      "execution_count": 15,
      "outputs": []
    },
    {
      "cell_type": "code",
      "metadata": {
        "id": "EWR3O-yaB3iM"
      },
      "source": [
        "train = df[df['Burnout_rate'].isnull()==False]\n",
        "test = df[df['Burnout_rate'].isnull()==True]"
      ],
      "execution_count": 17,
      "outputs": []
    },
    {
      "cell_type": "code",
      "metadata": {
        "id": "k6DecN9MB5Y9"
      },
      "source": [
        "del test['Burnout_rate']"
      ],
      "execution_count": 18,
      "outputs": []
    },
    {
      "cell_type": "code",
      "metadata": {
        "colab": {
          "base_uri": "https://localhost:8080/"
        },
        "id": "fcZzZJ7RCABd",
        "outputId": "106206d4-b31b-4342-a548-aed41ef96d66"
      },
      "source": [
        "a=['Gender','Relationship_Status','Hometown','Unit','Decision_skill_possess','Compensation_and_Benefits']\n",
        "for i in a:\n",
        "  loc = np.append(train[i].values, test[i].values, axis=0)\n",
        "  from sklearn.preprocessing import LabelEncoder\n",
        "  l=LabelEncoder()\n",
        "  l.fit(list(set(loc)))\n",
        "  train[i]=l.transform(train[i])\n",
        "  test[i]=l.transform(test[i])"
      ],
      "execution_count": 20,
      "outputs": [
        {
          "output_type": "stream",
          "text": [
            "/usr/local/lib/python3.7/dist-packages/ipykernel_launcher.py:7: SettingWithCopyWarning: \n",
            "A value is trying to be set on a copy of a slice from a DataFrame.\n",
            "Try using .loc[row_indexer,col_indexer] = value instead\n",
            "\n",
            "See the caveats in the documentation: https://pandas.pydata.org/pandas-docs/stable/user_guide/indexing.html#returning-a-view-versus-a-copy\n",
            "  import sys\n",
            "/usr/local/lib/python3.7/dist-packages/ipykernel_launcher.py:8: SettingWithCopyWarning: \n",
            "A value is trying to be set on a copy of a slice from a DataFrame.\n",
            "Try using .loc[row_indexer,col_indexer] = value instead\n",
            "\n",
            "See the caveats in the documentation: https://pandas.pydata.org/pandas-docs/stable/user_guide/indexing.html#returning-a-view-versus-a-copy\n",
            "  \n"
          ],
          "name": "stderr"
        }
      ]
    },
    {
      "cell_type": "code",
      "metadata": {
        "id": "fhSb3XmVCCt0"
      },
      "source": [
        "train_df=train"
      ],
      "execution_count": 21,
      "outputs": []
    },
    {
      "cell_type": "code",
      "metadata": {
        "id": "q05Sir3bCHzx"
      },
      "source": [
        "del train_df['Name']"
      ],
      "execution_count": 22,
      "outputs": []
    },
    {
      "cell_type": "code",
      "metadata": {
        "id": "9AS6UZGkCkfQ"
      },
      "source": [
        "del train_df['Employee_ID']"
      ],
      "execution_count": 29,
      "outputs": []
    },
    {
      "cell_type": "code",
      "metadata": {
        "id": "26MnV9WxCKXR"
      },
      "source": [
        "X = train_df.drop(labels=['Burnout_rate'], axis=1)\n",
        "y = train_df['Burnout_rate'].values\n",
        "\n",
        "from sklearn.model_selection import train_test_split\n",
        "X_train, X_cv, y_train, y_cv = train_test_split(X, y, test_size=0.15, random_state=42)"
      ],
      "execution_count": 30,
      "outputs": []
    },
    {
      "cell_type": "code",
      "metadata": {
        "colab": {
          "base_uri": "https://localhost:8080/"
        },
        "id": "AsHwK5IaCO6E",
        "outputId": "79b0999e-ac86-4f12-a987-b0ee2ae78fd2"
      },
      "source": [
        "X_train.shape, y_train.shape, X_cv.shape, y_cv.shape"
      ],
      "execution_count": 31,
      "outputs": [
        {
          "output_type": "execute_result",
          "data": {
            "text/plain": [
              "((5950, 22), (5950,), (1050, 22), (1050,))"
            ]
          },
          "metadata": {
            "tags": []
          },
          "execution_count": 31
        }
      ]
    },
    {
      "cell_type": "code",
      "metadata": {
        "id": "9kA2SvDECR2S"
      },
      "source": [
        "\n",
        "from math import sqrt \n",
        "from sklearn.metrics import mean_squared_log_error, mean_squared_error"
      ],
      "execution_count": 32,
      "outputs": []
    },
    {
      "cell_type": "code",
      "metadata": {
        "colab": {
          "base_uri": "https://localhost:8080/"
        },
        "id": "3ylyakaBCTjt",
        "outputId": "2b3162d9-505e-4e52-c4cf-8d28fd93cacf"
      },
      "source": [
        "import lightgbm as lgb\n",
        "train_data = lgb.Dataset(X_train, label=y_train)\n",
        "test_data = lgb.Dataset(X_cv, label=y_cv)\n",
        "\n",
        "param = {'objective': 'regression',\n",
        "         'boosting': 'dart',  \n",
        "         'metric': 'l2_root',\n",
        "         'learning_rate': 0.01, \n",
        "         'num_iterations': 1000,\n",
        "         'num_leaves': 69,\n",
        "         'max_depth': -1,\n",
        "         'min_data_in_leaf': 11,\n",
        "         'bagging_fraction': 0.80,\n",
        "         'bagging_freq': 1,\n",
        "         'bagging_seed': 6,\n",
        "         'feature_fraction': 0.80,\n",
        "         'feature_fraction_seed': 2,\n",
        "         'early_stopping_round': 200,\n",
        "         'max_bin': 250\n",
        "         }\n",
        "\n",
        "lgbm = lgb.train(params=param, verbose_eval=100, train_set=train_data, valid_sets=[test_data])\n",
        "\n",
        "y_pred_lgbm = lgbm.predict(X_cv)\n",
        "print('RMSE:', sqrt(mean_squared_error(y_cv, y_pred_lgbm)))"
      ],
      "execution_count": 33,
      "outputs": [
        {
          "output_type": "stream",
          "text": [
            "/usr/local/lib/python3.7/dist-packages/lightgbm/engine.py:118: UserWarning: Found `num_iterations` in params. Will use it instead of argument\n",
            "  warnings.warn(\"Found `{}` in params. Will use it instead of argument\".format(alias))\n",
            "/usr/local/lib/python3.7/dist-packages/lightgbm/engine.py:123: UserWarning: Found `early_stopping_round` in params. Will use it instead of argument\n",
            "  warnings.warn(\"Found `{}` in params. Will use it instead of argument\".format(alias))\n",
            "/usr/local/lib/python3.7/dist-packages/lightgbm/callback.py:189: UserWarning: Early stopping is not available in dart mode\n",
            "  warnings.warn('Early stopping is not available in dart mode')\n"
          ],
          "name": "stderr"
        },
        {
          "output_type": "stream",
          "text": [
            "[100]\tvalid_0's rmse: 0.201448\n",
            "[200]\tvalid_0's rmse: 0.205541\n",
            "[300]\tvalid_0's rmse: 0.199822\n",
            "[400]\tvalid_0's rmse: 0.195692\n",
            "[500]\tvalid_0's rmse: 0.193245\n",
            "[600]\tvalid_0's rmse: 0.192897\n",
            "[700]\tvalid_0's rmse: 0.191943\n",
            "[800]\tvalid_0's rmse: 0.191767\n",
            "[900]\tvalid_0's rmse: 0.19084\n",
            "[1000]\tvalid_0's rmse: 0.190651\n",
            "RMSE: 0.19065096420173852\n"
          ],
          "name": "stdout"
        }
      ]
    },
    {
      "cell_type": "code",
      "metadata": {
        "colab": {
          "base_uri": "https://localhost:8080/",
          "height": 729
        },
        "id": "feFkWCXRCWyI",
        "outputId": "81b02033-f3f1-4f89-dd04-3f17bd6a9e0f"
      },
      "source": [
        "import seaborn as sns\n",
        "feature_imp = pd.DataFrame(sorted(zip(lgbm.feature_importance(), X.columns), reverse=True)[:50], \n",
        "                           columns=['Value','Feature'])\n",
        "plt.figure(figsize=(12, 10))\n",
        "sns.barplot(x=\"Value\", y=\"Feature\", data=feature_imp.sort_values(by=\"Value\", ascending=False))\n",
        "plt.title('LightGBM Features')\n",
        "plt.tight_layout()\n",
        "plt.show()"
      ],
      "execution_count": 34,
      "outputs": [
        {
          "output_type": "display_data",
          "data": {
            "image/png": "[encoded data removed]",
            "text/plain": [
              "<Figure size 864x720 with 1 Axes>"
            ]
          },
          "metadata": {
            "tags": [],
            "needs_background": "light"
          }
        }
      ]
    },
    {
      "cell_type": "code",
      "metadata": {
        "id": "xNwBCvUuCbXM"
      },
      "source": [
        "c=test['Name']\n",
        "Xtest = test\n",
        "del Xtest['Name']"
      ],
      "execution_count": 35,
      "outputs": []
    },
    {
      "cell_type": "code",
      "metadata": {
        "id": "_AEbxqKWCzM7"
      },
      "source": [
        "del Xtest['Employee_ID']"
      ],
      "execution_count": 37,
      "outputs": []
    },
    {
      "cell_type": "code",
      "metadata": {
        "colab": {
          "base_uri": "https://localhost:8080/"
        },
        "id": "RSy7l1fwC0Rj",
        "outputId": "ee0c11ea-4cec-49c4-bfb8-290e5c8101f6"
      },
      "source": [
        "from sklearn.model_selection import KFold\n",
        "from lightgbm import LGBMRegressor\n",
        "\n",
        "errlgb = []\n",
        "y_pred_totlgb = []\n",
        "\n",
        "fold = KFold(n_splits=20, shuffle=True, random_state=2**30)\n",
        "\n",
        "for train_index, test_index in fold.split(X):\n",
        "    X_train, X_test = X.loc[train_index], X.loc[test_index]\n",
        "    y_train, y_test = y[train_index], y[test_index]\n",
        "\n",
        "    #lgbm = LGBMRegressor(**param)\n",
        "    lgbm = LGBMRegressor(boosting_type='gbdt', num_leaves=300,random_state=2**30, max_depth=31, learning_rate=0.1, n_estimators=10000, min_child_samples=30, subsample=0.90,bagging_fraction=0.9)\n",
        "    lgbm.fit(X_train, y_train, eval_set=[(X_test, y_test)], verbose=0, early_stopping_rounds=200)\n",
        "\n",
        "    y_pred_lgbm = lgbm.predict(X_test)\n",
        "    print(\"RMSLE LGBM: \", sqrt(mean_squared_error(y_test,y_pred_lgbm)))\n",
        "\n",
        "    errlgb.append(sqrt(mean_squared_error(y_test, y_pred_lgbm)))\n",
        "    p = lgbm.predict(Xtest)\n",
        "    y_pred_totlgb.append(p)"
      ],
      "execution_count": 38,
      "outputs": [
        {
          "output_type": "stream",
          "text": [
            "RMSLE LGBM:  0.19703370039976215\n",
            "RMSLE LGBM:  0.1923755228265427\n",
            "RMSLE LGBM:  0.19751374952861783\n",
            "RMSLE LGBM:  0.202313317711926\n",
            "RMSLE LGBM:  0.18270950975327468\n",
            "RMSLE LGBM:  0.18487810398292423\n",
            "RMSLE LGBM:  0.17934421909046896\n",
            "RMSLE LGBM:  0.17386152305337843\n",
            "RMSLE LGBM:  0.17353836576210155\n",
            "RMSLE LGBM:  0.1927003964241958\n",
            "RMSLE LGBM:  0.1857300009317303\n",
            "RMSLE LGBM:  0.1922900118605874\n",
            "RMSLE LGBM:  0.18190794300542001\n",
            "RMSLE LGBM:  0.18184421225876293\n",
            "RMSLE LGBM:  0.16190931036694312\n",
            "RMSLE LGBM:  0.19038379913835288\n",
            "RMSLE LGBM:  0.17317627775627964\n",
            "RMSLE LGBM:  0.17238819071471578\n",
            "RMSLE LGBM:  0.19280423912570924\n",
            "RMSLE LGBM:  0.1908965357457401\n"
          ],
          "name": "stdout"
        }
      ]
    },
    {
      "cell_type": "code",
      "metadata": {
        "colab": {
          "base_uri": "https://localhost:8080/"
        },
        "id": "tipVUFTMC67K",
        "outputId": "042e0895-6b24-49e5-a522-451d375b3eff"
      },
      "source": [
        "100-np.mean(errlgb,0)*100"
      ],
      "execution_count": 39,
      "outputs": [
        {
          "output_type": "execute_result",
          "data": {
            "text/plain": [
              "81.50200535281283"
            ]
          },
          "metadata": {
            "tags": []
          },
          "execution_count": 39
        }
      ]
    },
    {
      "cell_type": "code",
      "metadata": {
        "colab": {
          "base_uri": "https://localhost:8080/"
        },
        "id": "w28HPQ5qC9LC",
        "outputId": "bd96b28d-38a6-4562-9b12-0b3952e90a3d"
      },
      "source": [
        "\n",
        "lgbm_final = np.expm1(np.mean(y_pred_totlgb,0))\n",
        "lgbm_final"
      ],
      "execution_count": 40,
      "outputs": [
        {
          "output_type": "execute_result",
          "data": {
            "text/plain": [
              "array([0.22414952, 0.21781375, 0.22321743, ..., 0.19993834, 0.21597425,\n",
              "       0.20773681])"
            ]
          },
          "metadata": {
            "tags": []
          },
          "execution_count": 40
        }
      ]
    },
    {
      "cell_type": "code",
      "metadata": {
        "id": "tgtfZp6oC-qf"
      },
      "source": [
        ""
      ],
      "execution_count": 42,
      "outputs": []
    },
    {
      "cell_type": "code",
      "metadata": {
        "id": "Kg1IpFW8DIRX"
      },
      "source": [
        ""
      ],
      "execution_count": 42,
      "outputs": []
    },
    {
      "cell_type": "code",
      "metadata": {
        "id": "dQgC2H1bDK2R"
      },
      "source": [
        ""
      ],
      "execution_count": null,
      "outputs": []
    }
  ]
}